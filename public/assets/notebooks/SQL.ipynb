{
    "metadata": {
        "kernelspec": {
            "name": "SQL",
            "display_name": "SQL",
            "language": "sql"
        },
        "language_info": {
            "name": "sql",
            "version": ""
        }
    },
    "nbformat_minor": 2,
    "nbformat": 4,
    "cells": [
        {
            "cell_type": "code",
            "source": [
                "SELECT * FROM \"user\""
            ],
            "metadata": {
                "azdata_cell_guid": "f99b1f86-83f2-4d81-825a-ef87c97d1535"
            },
            "outputs": [
{
    "output_type": "display_data",
    "data": {
        "text/html": "(0 row(s) affected)"
    },
    "metadata": {}
}, {
    "output_type": "display_data",
    "data": {
        "text/html": "Total execution time: 00:00:00.003"
    },
    "metadata": {}
}, {
    "output_type": "execute_result",
    "execution_count": 2,
    "data": {
        "application/vnd.dataresource+json": {
            "schema": {
                "fields": [
                    {
                        "name": "id"
                    },
                    {
                        "name": "name"
                    },
                    {
                        "name": "username"
                    }
                ]
            },
            "data": []
        },
        "text/html": "<table><tr><th>id</th><th>name</th><th>username</th></tr></table>"
    },
    "metadata": {}
}
],
            "execution_count": 2
        }
    ]
}